{
 "cells": [
  {
   "cell_type": "code",
   "execution_count": 7,
   "metadata": {},
   "outputs": [],
   "source": [
    "import csv\n",
    "import time\n",
    "\n",
    "import scipy.special\n",
    "import numpy as np\n",
    "import matplotlib.pyplot as plt\n",
    "from matplotlib.animation import FuncAnimation"
   ]
  },
  {
   "cell_type": "code",
   "execution_count": 8,
   "metadata": {},
   "outputs": [
    {
     "data": {
      "image/png": "[encoded data removed]",
      "text/plain": [
       "<matplotlib.figure.Figure at 0x7f9ad3e3f748>"
      ]
     },
     "metadata": {
      "needs_background": "light"
     },
     "output_type": "display_data"
    }
   ],
   "source": [
    "U0 = 2.6796;\n",
    "\n",
    "C = [144.3760,  37.2100, -36.1911, 7.2900]\n",
    "A = [0.1405, 0.1960, 0.4200]\n",
    "\n",
    "def function(r):\n",
    "    if r <= 0.15:\n",
    "        return U0 - C[0] * (r + 0.15)**4\n",
    "    else:\n",
    "        return sum([C[i+1] *  scipy.special.kn(0, r/A[i]) for i in range(3)])\n",
    "\n",
    "r_space = np.linspace(0, 5, 1000)\n",
    "\n",
    "y = []\n",
    "for r in r_space:\n",
    "    y.append(function(r))\n",
    "plt.plot(r_space, y, 'b')\n",
    "    \n",
    "plt.show()"
   ]
  },
  {
   "cell_type": "code",
   "execution_count": null,
   "metadata": {},
   "outputs": [],
   "source": []
  },
  {
   "cell_type": "markdown",
   "metadata": {},
   "source": [
    "# Extracting spcific times from simulation"
   ]
  },
  {
   "cell_type": "code",
   "execution_count": 23,
   "metadata": {},
   "outputs": [],
   "source": [
    "file_path  = \"results/n16_hole_crystals.csv\"\n",
    "\n",
    "particles = []\n",
    "\n",
    "chosen_index = 3\n",
    "\n",
    "with open(file_path) as csvfile:\n",
    "    reader = csv.reader(csvfile)\n",
    "    for i, row in enumerate(reader):\n",
    "        if i  == chosen_index:\n",
    "            for i, coord in enumerate(row):\n",
    "                if (i%2 == 0 and i != 0):\n",
    "                    particle.append(float(coord))\n",
    "                    particles.append(particle)\n",
    "                    particle = []\n",
    "                else:\n",
    "                    particle.append(float(coord))"
   ]
  },
  {
   "cell_type": "code",
   "execution_count": 25,
   "metadata": {},
   "outputs": [
    {
     "data": {
      "text/plain": [
       "[]"
      ]
     },
     "execution_count": 25,
     "metadata": {},
     "output_type": "execute_result"
    },
    {
     "data": {
      "image/png": "[encoded data removed]",
      "text/plain": [
       "<matplotlib.figure.Figure at 0x7f9ad3cdf320>"
      ]
     },
     "metadata": {
      "needs_background": "light"
     },
     "output_type": "display_data"
    }
   ],
   "source": [
    "fig, ax = plt.subplots()\n",
    "ax.set_xlim([0, 1.4])\n",
    "ax.set_ylim([0, 1.4])\n",
    "ax.grid()\n",
    "\n",
    "for particle in particles:\n",
    "    ax.plot(particle[0], particle[1], \".b\")\n",
    "\n",
    "ax.set_title(\"n = 16\")\n",
    "\n",
    "plt.plot()\n"
   ]
  }
 ],
 "metadata": {
  "kernelspec": {
   "display_name": "Python 3.6.9 64-bit",
   "language": "python",
   "name": "python3"
  },
  "language_info": {
   "codemirror_mode": {
    "name": "ipython",
    "version": 3
   },
   "file_extension": ".py",
   "mimetype": "text/x-python",
   "name": "python",
   "nbconvert_exporter": "python",
   "pygments_lexer": "ipython3",
   "version": "3.6.9"
  },
  "orig_nbformat": 4,
  "vscode": {
   "interpreter": {
    "hash": "31f2aee4e71d21fbe5cf8b01ff0e069b9275f58929596ceb00d14d90e3e16cd6"
   }
  }
 },
 "nbformat": 4,
 "nbformat_minor": 2
}
